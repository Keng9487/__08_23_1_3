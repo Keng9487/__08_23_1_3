{
 "cells": [
  {
   "cell_type": "code",
   "execution_count": 3,
   "metadata": {},
   "outputs": [
    {
     "name": "stdout",
     "output_type": "stream",
     "text": [
      "梯形的上底12,下底15,高5\n",
      "面積是:67.5\n"
     ]
    }
   ],
   "source": [
    "top = int(input(\"請輸出上底\"))\n",
    "bottom = int(input(\"請輸入下底\"))\n",
    "height = int(input(\"請輸入高\"))\n",
    "\n",
    "area = (top+bottom)*height/2\n",
    "\n",
    "print(f\"梯形的上底{top},下底{bottom},高{height}\")\n",
    "print(f\"面積是:{area}\")"
   ]
  }
 ],
 "metadata": {
  "language_info": {
   "name": "python"
  }
 },
 "nbformat": 4,
 "nbformat_minor": 2
}
