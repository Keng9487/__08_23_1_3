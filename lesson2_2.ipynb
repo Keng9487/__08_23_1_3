top = int(input("請輸出上底"))
bottom = int(input("請輸入下底"))
height = int(input("請輸入高"))

area = (top+bottom)*height/2

print(f"梯形的上底是:{top},下底{bottom},高{height}")
print(f"面積是:{area}")